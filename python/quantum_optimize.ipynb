{
 "cells": [
  {
   "cell_type": "code",
   "execution_count": 1,
   "metadata": {},
   "outputs": [
    {
     "name": "stdout",
     "output_type": "stream",
     "text": [
      "(0, 0): ───X───M───\n"
     ]
    }
   ],
   "source": [
    "import cirq\n",
    "\n",
    "circuit = cirq.Circuit()\n",
    "circuit.append(cirq.X(cirq.GridQubit(0, 0)))\n",
    "circuit.append(cirq.measure(cirq.GridQubit(0, 0)))\n",
    "\n",
    "print(circuit)"
   ]
  }
 ],
 "metadata": {
  "interpreter": {
   "hash": "67f4263d1d45ab4782bc75e6684adb0dfd23afeb5b43bdfbd6b14736527e881c"
  },
  "kernelspec": {
   "display_name": "Python 3.8.10 64-bit ('.venv': venv)",
   "language": "python",
   "name": "python3"
  },
  "language_info": {
   "codemirror_mode": {
    "name": "ipython",
    "version": 3
   },
   "file_extension": ".py",
   "mimetype": "text/x-python",
   "name": "python",
   "nbconvert_exporter": "python",
   "pygments_lexer": "ipython3",
   "version": "3.8.10"
  },
  "orig_nbformat": 4
 },
 "nbformat": 4,
 "nbformat_minor": 2
}
